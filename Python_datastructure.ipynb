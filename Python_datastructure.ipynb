{
  "nbformat": 4,
  "nbformat_minor": 0,
  "metadata": {
    "colab": {
      "provenance": []
    },
    "kernelspec": {
      "name": "python3",
      "display_name": "Python 3"
    },
    "language_info": {
      "name": "python"
    }
  },
  "cells": [
    {
      "cell_type": "markdown",
      "source": [
        "# Theory Questions"
      ],
      "metadata": {
        "id": "A31S9cGFShEk"
      }
    },
    {
      "cell_type": "markdown",
      "source": [
        " 1  What are data structures, and why are they important?\n",
        "\n",
        "1 Data structures are the way to organize the data in efficient way to store and retrieve data very fast.\n",
        "\n",
        "It is important because\n",
        "\n",
        "\n",
        "*   Efficient data management.\n",
        "*   Optimized performance .\n",
        "\n",
        "\n",
        "*   Code clearity and maintainability.\n",
        "*   Reusability\n",
        "\n",
        "\n",
        "\n"
      ],
      "metadata": {
        "id": "TbrzVF71SqMC"
      }
    },
    {
      "cell_type": "markdown",
      "source": [
        "2 Explain the difference between mutable and immutable data types with examples?\n",
        "\n",
        "2 ***Mutable Data types*** are data types which allow to change their values(update,modify,add) after they have been created .\n",
        "\n",
        "Eg>\n",
        "\n",
        "*   Dictionary\n",
        "*   List\n",
        "\n",
        "\n",
        "\n",
        "***Immutable Data types*** are data types which doesn't allow to change their value(update,modify,add) after they have been created.\n",
        "\n",
        "Eg>\n",
        "\n",
        "*   String\n",
        "*   Tuple\n",
        "\n",
        "\n",
        "\n"
      ],
      "metadata": {
        "id": "Jd_uNpFZUnEt"
      }
    },
    {
      "cell_type": "markdown",
      "source": [
        "3  What are the main differences between lists and tuples in Python?\n",
        "\n",
        "3 The main differences betwenn lists and tuples in Python are:-\n",
        "\n",
        "\n",
        "\n",
        "*   List is denoted by [] (Square braces) while Tuple is denoted by ()(Parenthesis braces.\n",
        "*  List is mutable data type in which can change the values(update,modify,add) but in Tuple is immutable data type in which cannot change the values (update,modify,add).\n",
        "\n"
      ],
      "metadata": {
        "id": "B5O9Tpl2nkiK"
      }
    },
    {
      "cell_type": "markdown",
      "source": [
        "4  Describe how dictionaries store data?\n",
        "\n",
        "4 Dictionaries store data in form of keys values pair in which keys immutable but values mutable .\n",
        "\n",
        "Eg>\n",
        "\n",
        "dict={1:\"Ankit\",2:\"Rolex\"}\n",
        "\n",
        "This is the dictionary we created in which 1,2 are keys and \"Ankit\",\"Rolex\" are values."
      ],
      "metadata": {
        "id": "Be1NLtGUo9sJ"
      }
    },
    {
      "cell_type": "markdown",
      "source": [
        "5  Why might you use a set instead of a list in Python?\n",
        "\n",
        "5 I use set instead of a list in Python because set is unorder data type in which no duplicate elements are allowed while you printing the set and there is not indexing and slicing in the set so if i want to work with unique element so i use set meanwhile list have not these features."
      ],
      "metadata": {
        "id": "jRLwSG3Ap82w"
      }
    },
    {
      "cell_type": "markdown",
      "source": [
        "6  What is a string in Python, and how is it different from a list?\n",
        "\n",
        "6 ***String*** is the data type in which sequence of characters that is used represent and manipulate textual data .\n",
        "\n",
        "And it enclosed by \"\"(double quotes) or ''(single quotes)\n",
        "\n",
        "String data type is immutable data type.\n",
        "\n",
        "The difference between the string and list are:-\n",
        "\n",
        "\n",
        "\n",
        "*   List is denoted or created by square braces [] while string is denoted or created by \"\"(double quotes ) or '' (single quotes)\n",
        "*   List is mutable data type or data struture while string is immutable data type or data structure\n",
        "\n"
      ],
      "metadata": {
        "id": "5xoB1lWwrmdI"
      }
    },
    {
      "cell_type": "markdown",
      "source": [
        "7  How do tuples ensure data integrity in Python?\n",
        "\n",
        "7 Tuples ensure data integrity in Python by immutablity .\n",
        "\n",
        "This mean that we can modify ,update ,add element to the tuple . Tuple once created when can do anything with this ,therefore the tuple ensures data integrity."
      ],
      "metadata": {
        "id": "4YV3d07OuKMo"
      }
    },
    {
      "cell_type": "markdown",
      "source": [
        "8  What is a hash table, and how does it relate to dictionaries in Python?\n",
        "\n",
        "8 A hash table is a data structure that implements an associative array, also known as a map or dictionary. It stores data in key-value pairs, where each key maps to a specific value.\n",
        "\n",
        "Python's built-in dict type is implemented using hash tables. When you create a dictionary in Python, you are essentially using a hash table under the hood."
      ],
      "metadata": {
        "id": "tUHkoXtMvdQM"
      }
    },
    {
      "cell_type": "markdown",
      "source": [
        "9  Can lists contain different data types in Python?\n",
        "\n",
        "9 Yes lists contain different data types in Python.\n",
        "\n",
        "Eg>\n",
        "\n",
        "l=[1,2,3,\"rolex\",(1,2)]"
      ],
      "metadata": {
        "id": "gPdzRKeewews"
      }
    },
    {
      "cell_type": "markdown",
      "source": [
        "10 Explain why strings are immutable in Python?\n",
        "\n",
        "10 Python strings are immutable, meaning that once a string object is created, its content cannot be changed. Any operation that appears to modify a string actually creates a new string object with the desired changes, and the original string remains untouched."
      ],
      "metadata": {
        "id": "0h6q4cbcxqJ4"
      }
    },
    {
      "cell_type": "markdown",
      "source": [
        "11  What advantages do dictionaries offer over lists for certain tasks?\n",
        "\n",
        "11 Dictionaries offer advantages lists for certain task are in the following :-\n",
        "\n",
        "*   Fast retreival\n",
        "*   Non sequential data retreival\n",
        "\n",
        "*   Organizing and storing complex data\n",
        "*   Creating logical associations between data\n",
        "\n",
        "All are of because of dictionary stores data in unique way that key value pair.\n",
        "\n",
        "\n",
        "\n",
        "\n"
      ],
      "metadata": {
        "id": "Exp26eWhyAxi"
      }
    },
    {
      "cell_type": "markdown",
      "source": [
        "12  Describe a scenario where using a tuple would be preferable over a list ?\n",
        "\n",
        "12 When we want to store data that we couldn't change where we can prefer the tuple instead of list.\n",
        "\n",
        "For Eg>\n",
        "\n",
        "when we want to store employee id\n",
        "\n",
        "t=(101,102,103,104,105)\n"
      ],
      "metadata": {
        "id": "V0FtPEGY0hKk"
      }
    },
    {
      "cell_type": "markdown",
      "source": [
        "13  How do sets handle duplicate values in Python?\n",
        "\n",
        "13  Set handle duplicate values in python because it designed like this can handle only unique value whether you provide lot of same of number."
      ],
      "metadata": {
        "id": "wA0AjG1y1cA7"
      }
    },
    {
      "cell_type": "markdown",
      "source": [
        "14 How does the “in” keyword work differently for lists and dictionaries?\n",
        "\n",
        "14 \"in\" keyword in list used to check if the object is present or not in the list\n",
        "\n",
        "For Eg>\n",
        "\n",
        "l=[1,2,3,4]\n",
        "\n",
        "2 in l    # it will return True\n",
        "\n",
        "5 in l    # it wil return False\n",
        "\n",
        "\"in\" Keyword in dictionary used to check if the key is present or not in the dictionary.\n",
        "\n",
        "For eg>\n",
        "\n",
        "dic={1:\"Ankit\",2:\"Rolex\"}\n",
        "\n",
        "1 in dic #it will return True\n",
        "\n",
        "\"Ankit\" in dic #it will return False\n",
        "\n",
        "So in List the \"in\" is used to check the object is present or not in list while in Dictionary the \"in\" is used to check the key is present or not in dictionay"
      ],
      "metadata": {
        "id": "pOpJ34jJ2kUu"
      }
    },
    {
      "cell_type": "markdown",
      "source": [
        "15 Can you modify the elements of a tuple? Explain why or why not?\n",
        "\n",
        "15 No, we cannot modify the elements of a tuple. Because tuple is immutable data type or data structure which doesn't support mutability or item assignment."
      ],
      "metadata": {
        "id": "_c9Z6Rwg4wjk"
      }
    },
    {
      "cell_type": "markdown",
      "source": [
        "16  What is a nested dictionary, and give an example of its use case?\n",
        "\n",
        "16 Nested Dictionary is dictionary inside the dictionary mean that we assign a dictionary inside the dictionary .\n",
        "\n",
        "For eg>\n",
        "\n",
        "d={\"Department_Account\":{1:\"Ankit\"},\"Department_Finance\":{2:\"Rolex\"}}"
      ],
      "metadata": {
        "id": "slVNADHA5kFh"
      }
    },
    {
      "cell_type": "code",
      "source": [
        "d={\"Department_Account\":{1:\"Ankit\"},\"Department_Finance\":{2:\"Rolex\"}}\n",
        "d"
      ],
      "metadata": {
        "colab": {
          "base_uri": "https://localhost:8080/"
        },
        "id": "UR9kQh7cVveU",
        "outputId": "dc3f200b-b083-4dcb-a620-30224821c70c"
      },
      "execution_count": null,
      "outputs": [
        {
          "output_type": "execute_result",
          "data": {
            "text/plain": [
              "{'Department': {1: 'Ankit'}, 'Rolex': {2: 'Rolex'}}"
            ]
          },
          "metadata": {},
          "execution_count": 1
        }
      ]
    },
    {
      "cell_type": "code",
      "source": [],
      "metadata": {
        "id": "IYptO5P0WKz5"
      },
      "execution_count": null,
      "outputs": []
    },
    {
      "cell_type": "markdown",
      "source": [
        "17 Describe the time complexity of accessing elements in a dictionary?\n",
        "\n",
        "17 Accessing elements in a dictionary, or hash map, generally exhibits an average time complexity of O(1), which signifies constant time. This efficiency is achieved through the use of hash tables."
      ],
      "metadata": {
        "id": "Dkkz0VoyXsBF"
      }
    },
    {
      "cell_type": "markdown",
      "source": [
        "18  In what situations are lists preferred over dictionaries?\n",
        "\n",
        "18 Dictionary is used where data is stored in key value pair.In dictionary there is no sequence in data storing.\n",
        "\n",
        "\n",
        "But in list data is stored in sequential order and the objects /element in data is mutable.\n",
        "\n",
        "Lists preferred over dictionaries are:-\n",
        "\n",
        "\n",
        "\n",
        "*   Ordered collection\n",
        "*   Index based access\n",
        "\n",
        "*   Sequential processing\n",
        "*   Storing related values without unique identifier.\n",
        "\n",
        "\n",
        "\n"
      ],
      "metadata": {
        "id": "XX1LRuHRnBbx"
      }
    },
    {
      "cell_type": "markdown",
      "source": [
        "19  Why are dictionaries considered unordered, and how does that affect data retrieval?\n",
        "\n",
        "19 Dictionaries are considered \"unordered\" because, historically and by design, their primary purpose is fast, key-based access, not maintaining the order of insertion or any other sequence."
      ],
      "metadata": {
        "id": "AfXYICrLpzXF"
      }
    },
    {
      "cell_type": "markdown",
      "source": [
        "20  Explain the difference between a list and a dictionary in terms of data retrieval?\n",
        "\n",
        "20  ***Data Retrieval in List***\n",
        "\n",
        "\n",
        "*   Ordered by index\n",
        "*   Access by position\n",
        "\n",
        "*   Search complexity is O(n).\n",
        "\n",
        "***Data Retrieval in Dictionary***\n",
        "\n",
        "\n",
        "*   Unordered key vaule pairs\n",
        "*   Access by key\n",
        "\n",
        "*   Hash-based retrieval\n",
        "\n",
        "\n",
        "\n",
        "\n",
        "\n",
        "\n",
        "\n",
        "\n",
        "\n"
      ],
      "metadata": {
        "id": "iBta7vm8qbMV"
      }
    },
    {
      "cell_type": "markdown",
      "source": [
        "# Practical Questions"
      ],
      "metadata": {
        "id": "EAF-pOBbsXEh"
      }
    },
    {
      "cell_type": "code",
      "source": [
        "# 1 Write a code to create a string with your name and print it.\n",
        "a=\"Rolex\"\n",
        "print(a)"
      ],
      "metadata": {
        "colab": {
          "base_uri": "https://localhost:8080/"
        },
        "id": "W0Ic5teSscZf",
        "outputId": "a51dd78e-83d9-460f-a389-f5860e43b0b3"
      },
      "execution_count": null,
      "outputs": [
        {
          "output_type": "stream",
          "name": "stdout",
          "text": [
            "Rolex\n"
          ]
        }
      ]
    },
    {
      "cell_type": "code",
      "source": [
        "# 2  Write a code to find the length of the string \"Hello World\".\n",
        "str=\"Hello World\"\n",
        "len(str)"
      ],
      "metadata": {
        "colab": {
          "base_uri": "https://localhost:8080/"
        },
        "id": "qMX2ovLOssb4",
        "outputId": "85cd44ea-daf2-4070-8ac9-ad48ef439066"
      },
      "execution_count": null,
      "outputs": [
        {
          "output_type": "execute_result",
          "data": {
            "text/plain": [
              "11"
            ]
          },
          "metadata": {},
          "execution_count": 6
        }
      ]
    },
    {
      "cell_type": "code",
      "source": [
        "# 3  Write a code to slice the first 3 characters from the string \"Python Programming\".\n",
        "a=\"Python Programming\"\n",
        "a[0:3]"
      ],
      "metadata": {
        "colab": {
          "base_uri": "https://localhost:8080/",
          "height": 36
        },
        "id": "wYiq6lFMs5lF",
        "outputId": "8683f7a7-4e20-44b3-d096-6fc54b8fec6b"
      },
      "execution_count": null,
      "outputs": [
        {
          "output_type": "execute_result",
          "data": {
            "text/plain": [
              "'Pyt'"
            ],
            "application/vnd.google.colaboratory.intrinsic+json": {
              "type": "string"
            }
          },
          "metadata": {},
          "execution_count": 7
        }
      ]
    },
    {
      "cell_type": "code",
      "source": [
        "# 4 Write a code to convert the string \"hello\" to uppercase.\n",
        "str=\"hello\"\n",
        "str.upper()"
      ],
      "metadata": {
        "colab": {
          "base_uri": "https://localhost:8080/",
          "height": 36
        },
        "id": "L59dXNwttJYC",
        "outputId": "3d469524-8f14-4ce0-a432-c9fdde3955d6"
      },
      "execution_count": null,
      "outputs": [
        {
          "output_type": "execute_result",
          "data": {
            "text/plain": [
              "'HELLO'"
            ],
            "application/vnd.google.colaboratory.intrinsic+json": {
              "type": "string"
            }
          },
          "metadata": {},
          "execution_count": 8
        }
      ]
    },
    {
      "cell_type": "code",
      "source": [
        "# 5 Write a code to replace the word \"apple\" with \"orange\" in the string \"I like apple\"\n",
        "a=\"I like apple\"\n",
        "a.replace(\"apple\",\"orange\")"
      ],
      "metadata": {
        "colab": {
          "base_uri": "https://localhost:8080/",
          "height": 36
        },
        "id": "K5iKjMtnyTY1",
        "outputId": "8b853702-76c3-4c39-91fd-1ba2a3ba18a3"
      },
      "execution_count": null,
      "outputs": [
        {
          "output_type": "execute_result",
          "data": {
            "text/plain": [
              "'I like orange'"
            ],
            "application/vnd.google.colaboratory.intrinsic+json": {
              "type": "string"
            }
          },
          "metadata": {},
          "execution_count": 9
        }
      ]
    },
    {
      "cell_type": "code",
      "source": [
        "# 6  Write a code to create a list with numbers 1 to 5 and print it.\n",
        "l=[1,2,3,4,5]\n",
        "print(l)"
      ],
      "metadata": {
        "colab": {
          "base_uri": "https://localhost:8080/"
        },
        "id": "L9yvF3lSyjQt",
        "outputId": "a61c96aa-22d3-4e48-90f8-c81e64d3f722"
      },
      "execution_count": null,
      "outputs": [
        {
          "output_type": "stream",
          "name": "stdout",
          "text": [
            "[1, 2, 3, 4, 5]\n"
          ]
        }
      ]
    },
    {
      "cell_type": "code",
      "source": [
        "# 7 Write a code to append the number 10 to the list [1, 2, 3, 4].\n",
        "l=[1,2,3,4]\n",
        "l.append(10)\n",
        "print(l)"
      ],
      "metadata": {
        "colab": {
          "base_uri": "https://localhost:8080/"
        },
        "id": "ea5-1kwE3Ro5",
        "outputId": "196b971d-db86-4c83-d30e-d3848073c6c7"
      },
      "execution_count": null,
      "outputs": [
        {
          "output_type": "stream",
          "name": "stdout",
          "text": [
            "[1, 2, 3, 4, 10]\n"
          ]
        }
      ]
    },
    {
      "cell_type": "code",
      "source": [
        "# 8  Write a code to remove the number 3 from the list [1, 2, 3, 4, 5].\n",
        "l=[1,2,3,4,5]\n",
        "l.remove(3)\n",
        "print(l)"
      ],
      "metadata": {
        "colab": {
          "base_uri": "https://localhost:8080/"
        },
        "id": "641bjub4ywCZ",
        "outputId": "e22a2e6b-2b4a-4a38-dbe0-7a7b0001f16f"
      },
      "execution_count": null,
      "outputs": [
        {
          "output_type": "stream",
          "name": "stdout",
          "text": [
            "[1, 2, 4, 5]\n"
          ]
        }
      ]
    },
    {
      "cell_type": "code",
      "source": [
        "# 9 Write a code to access the second element in the list ['a', 'b', 'c', 'd'].\n",
        "a=['a','b','c','d']\n",
        "a[1]"
      ],
      "metadata": {
        "colab": {
          "base_uri": "https://localhost:8080/",
          "height": 36
        },
        "id": "ysSPcLS1zie3",
        "outputId": "cc1a6248-2ae7-4415-eadc-fed272a275c2"
      },
      "execution_count": null,
      "outputs": [
        {
          "output_type": "execute_result",
          "data": {
            "text/plain": [
              "'b'"
            ],
            "application/vnd.google.colaboratory.intrinsic+json": {
              "type": "string"
            }
          },
          "metadata": {},
          "execution_count": 12
        }
      ]
    },
    {
      "cell_type": "code",
      "source": [
        "# 10 Write a code to reverse the list [10, 20, 30, 40, 50].\n",
        "a=[10,20,30,40,50]\n",
        "a[::-1]"
      ],
      "metadata": {
        "colab": {
          "base_uri": "https://localhost:8080/"
        },
        "id": "q78hl23GzyXR",
        "outputId": "68d83a15-475a-4eaf-d8e6-5dc5b0d7d5b3"
      },
      "execution_count": null,
      "outputs": [
        {
          "output_type": "execute_result",
          "data": {
            "text/plain": [
              "[50, 40, 30, 20, 10]"
            ]
          },
          "metadata": {},
          "execution_count": 13
        }
      ]
    },
    {
      "cell_type": "code",
      "source": [
        "# 11 Write a code to create a tuple with the elements 100, 200, 300 and print it.\n",
        "t=(100,200,300)\n",
        "print(t)"
      ],
      "metadata": {
        "colab": {
          "base_uri": "https://localhost:8080/"
        },
        "id": "QMg29HUe0Bvf",
        "outputId": "69bdf474-5098-4707-e2c2-7d8c63c903aa"
      },
      "execution_count": null,
      "outputs": [
        {
          "output_type": "stream",
          "name": "stdout",
          "text": [
            "(100, 200, 300)\n"
          ]
        }
      ]
    },
    {
      "cell_type": "code",
      "source": [
        "# 12 Write a code to access the second-to-last element of the tuple ('red', 'green', 'blue', 'yellow').\n",
        "color=(\"Red\",\"Green\",\"Blue\",\"Yellow\")\n",
        "color[1:]"
      ],
      "metadata": {
        "colab": {
          "base_uri": "https://localhost:8080/"
        },
        "id": "SJDRoC6v047Z",
        "outputId": "4a94c5d7-8278-4971-fc19-cf081b1a195c"
      },
      "execution_count": null,
      "outputs": [
        {
          "output_type": "execute_result",
          "data": {
            "text/plain": [
              "('Green', 'Blue', 'Yellow')"
            ]
          },
          "metadata": {},
          "execution_count": 16
        }
      ]
    },
    {
      "cell_type": "code",
      "source": [
        "# 13 Write a code to find the minimum number in the tuple (10, 20, 5, 15).\n",
        "t=(10,20,5,15)\n",
        "min(t)"
      ],
      "metadata": {
        "colab": {
          "base_uri": "https://localhost:8080/"
        },
        "id": "vYxa68fs00KN",
        "outputId": "09aef15d-e2db-47e8-840d-840da51e8d63"
      },
      "execution_count": null,
      "outputs": [
        {
          "output_type": "execute_result",
          "data": {
            "text/plain": [
              "5"
            ]
          },
          "metadata": {},
          "execution_count": 17
        }
      ]
    },
    {
      "cell_type": "code",
      "source": [
        "# 14 Write a code to find the index of the element \"cat\" in the tuple ('dog', 'cat', 'rabbit').\n",
        "pet=(\"Dog\",\"Cat\",\"Rabbit\")\n",
        "pet.index(\"Cat\")"
      ],
      "metadata": {
        "colab": {
          "base_uri": "https://localhost:8080/"
        },
        "id": "IStAR7KR1cXE",
        "outputId": "c4ad2127-7d88-4b18-dc3a-bf7aec7bc3d5"
      },
      "execution_count": null,
      "outputs": [
        {
          "output_type": "execute_result",
          "data": {
            "text/plain": [
              "1"
            ]
          },
          "metadata": {},
          "execution_count": 19
        }
      ]
    },
    {
      "cell_type": "code",
      "source": [
        "# 15 Write a code to create a tuple containing three different fruits and check if \"kiwi\" is in it.\n",
        "fruit=(\"Apple\",\"Banana\",\"Grapes\")\n",
        "\"Kiwi\" in fruit"
      ],
      "metadata": {
        "colab": {
          "base_uri": "https://localhost:8080/"
        },
        "id": "LAt4GjBQ1vqp",
        "outputId": "16cd4644-4f02-4ddb-bdf6-014b5b43ae32"
      },
      "execution_count": null,
      "outputs": [
        {
          "output_type": "execute_result",
          "data": {
            "text/plain": [
              "False"
            ]
          },
          "metadata": {},
          "execution_count": 20
        }
      ]
    },
    {
      "cell_type": "code",
      "source": [
        "# 16 Write a code to create a set with the elements 'a', 'b', 'c' and print it.\n",
        "s={'a','b','c'}\n",
        "print(s)"
      ],
      "metadata": {
        "colab": {
          "base_uri": "https://localhost:8080/"
        },
        "id": "lbwU665R2kd4",
        "outputId": "fa78e08d-34d3-49eb-f6e2-30dfff5735bc"
      },
      "execution_count": null,
      "outputs": [
        {
          "output_type": "stream",
          "name": "stdout",
          "text": [
            "{'b', 'a', 'c'}\n"
          ]
        }
      ]
    },
    {
      "cell_type": "code",
      "source": [
        "# 17 Write a code to create a set with the elements 'a', 'b', 'c' and print it.\n",
        "k={1,2,3,4,5}\n",
        "k.clear()\n",
        "print(k)"
      ],
      "metadata": {
        "colab": {
          "base_uri": "https://localhost:8080/"
        },
        "id": "GV6No2284vcf",
        "outputId": "4cdac00e-323e-47a6-90c4-fc28955f2c52"
      },
      "execution_count": null,
      "outputs": [
        {
          "output_type": "stream",
          "name": "stdout",
          "text": [
            "set()\n"
          ]
        }
      ]
    },
    {
      "cell_type": "code",
      "source": [
        "#  18. Write a code to remove the element 4 from the set {1, 2, 3, 4}.\n",
        "j={1,2,3,4}\n",
        "j.remove(4)\n",
        "j"
      ],
      "metadata": {
        "colab": {
          "base_uri": "https://localhost:8080/"
        },
        "id": "UyvKKQaT482L",
        "outputId": "efa0f036-be80-4da7-e259-5546755a7333"
      },
      "execution_count": null,
      "outputs": [
        {
          "output_type": "execute_result",
          "data": {
            "text/plain": [
              "{1, 2, 3}"
            ]
          },
          "metadata": {},
          "execution_count": 27
        }
      ]
    },
    {
      "cell_type": "code",
      "source": [
        "#  19. Write a code to find the union of two sets {1, 2, 3} and {3, 4, 5}.\n",
        "a={1,2,3}\n",
        "b={3,4,5}\n",
        "a|b"
      ],
      "metadata": {
        "id": "l2GlhU5Q5Xyj",
        "colab": {
          "base_uri": "https://localhost:8080/"
        },
        "outputId": "2b3b402f-ec8b-40b4-bbbf-d73aa00291a0"
      },
      "execution_count": 1,
      "outputs": [
        {
          "output_type": "execute_result",
          "data": {
            "text/plain": [
              "{1, 2, 3, 4, 5}"
            ]
          },
          "metadata": {},
          "execution_count": 1
        }
      ]
    },
    {
      "cell_type": "code",
      "source": [
        "#  20. Write a code to find the intersection of two sets {1, 2, 3} and {2, 3, 4}.\n",
        "a={1,2,3}\n",
        "b={2,3,4}\n",
        "a&b"
      ],
      "metadata": {
        "colab": {
          "base_uri": "https://localhost:8080/"
        },
        "id": "8fOkG-XoLN-X",
        "outputId": "72c7b1d7-40c3-4d4c-af3f-fa15e01acf2a"
      },
      "execution_count": 2,
      "outputs": [
        {
          "output_type": "execute_result",
          "data": {
            "text/plain": [
              "{2, 3}"
            ]
          },
          "metadata": {},
          "execution_count": 2
        }
      ]
    },
    {
      "cell_type": "code",
      "source": [
        "#  21. Write a code to create a dictionary with the keys \"name\", \"age\", and \"city\", and print it.\n",
        "d={\"Name\":\"Rolex\",\"Age\":21,\"City\":\"Rbl\"}\n",
        "d"
      ],
      "metadata": {
        "colab": {
          "base_uri": "https://localhost:8080/"
        },
        "id": "k5I7U4zSLiqm",
        "outputId": "84b6aacc-4695-4116-b51e-74b0144418ea"
      },
      "execution_count": 3,
      "outputs": [
        {
          "output_type": "execute_result",
          "data": {
            "text/plain": [
              "{'Name': 'Rolex', 'Age': 21, 'City': 'Rbl'}"
            ]
          },
          "metadata": {},
          "execution_count": 3
        }
      ]
    },
    {
      "cell_type": "code",
      "source": [
        "# 22. Write a code to add a new key-value pair \"country\": \"USA\" to the dictionary {'name': 'John', 'age': 25}.\n",
        "d={\"Country\":\"usa\",}\n",
        "d[\"Name\"]=\"John\"\n",
        "d[\"Age\"]=25\n",
        "d"
      ],
      "metadata": {
        "colab": {
          "base_uri": "https://localhost:8080/"
        },
        "id": "OUqvQxnRMEoa",
        "outputId": "93f409fb-efb3-4cb5-e30a-3292b6e689b9"
      },
      "execution_count": 4,
      "outputs": [
        {
          "output_type": "execute_result",
          "data": {
            "text/plain": [
              "{'Country': 'usa', 'Name': 'John', 'Age': 25}"
            ]
          },
          "metadata": {},
          "execution_count": 4
        }
      ]
    },
    {
      "cell_type": "code",
      "source": [
        "#  23. Write a code to access the value associated with the key \"name\" in the dictionary {'name': 'Alice', 'age': 30}.\n",
        "d={\"Name\":\"Alice\",\"Age\":30}\n",
        "d[\"Name\"]"
      ],
      "metadata": {
        "colab": {
          "base_uri": "https://localhost:8080/",
          "height": 36
        },
        "id": "2wI7qkPbMmd1",
        "outputId": "16dc0018-6e10-4825-c527-f4f7987a4243"
      },
      "execution_count": 5,
      "outputs": [
        {
          "output_type": "execute_result",
          "data": {
            "text/plain": [
              "'Alice'"
            ],
            "application/vnd.google.colaboratory.intrinsic+json": {
              "type": "string"
            }
          },
          "metadata": {},
          "execution_count": 5
        }
      ]
    },
    {
      "cell_type": "code",
      "source": [
        "#  24. Write a code to remove the key \"age\" from the dictionary {'name': 'Bob', 'age': 22, 'city': 'New York'}.\n",
        "d={'name': 'Bob', 'age': 22, 'city': 'New York'}\n",
        "print(d.pop(\"age\"))\n",
        "d"
      ],
      "metadata": {
        "colab": {
          "base_uri": "https://localhost:8080/"
        },
        "id": "XMvLXa49NGvT",
        "outputId": "1a4a439c-7e54-421c-ba98-ec30a21b3c7d"
      },
      "execution_count": 8,
      "outputs": [
        {
          "output_type": "stream",
          "name": "stdout",
          "text": [
            "22\n"
          ]
        },
        {
          "output_type": "execute_result",
          "data": {
            "text/plain": [
              "{'name': 'Bob', 'city': 'New York'}"
            ]
          },
          "metadata": {},
          "execution_count": 8
        }
      ]
    },
    {
      "cell_type": "code",
      "source": [
        "# 25. Write a code to check if the key \"city\" exists in the dictionary {'name': 'Alice', 'city': 'Paris'}.\n",
        "d={\"name\":\"Alice\",\"city\":\"Paris\"}\n",
        "print(\"city\" in d)\n",
        "print(d[\"city\"])"
      ],
      "metadata": {
        "colab": {
          "base_uri": "https://localhost:8080/"
        },
        "id": "4Och3UyLNeNM",
        "outputId": "8bdfc42a-2445-4ca6-890c-4d82fe172e88"
      },
      "execution_count": 9,
      "outputs": [
        {
          "output_type": "stream",
          "name": "stdout",
          "text": [
            "True\n",
            "Paris\n"
          ]
        }
      ]
    },
    {
      "cell_type": "code",
      "source": [
        "# 26. Write a code to create a list, a tuple, and a dictionary, and print them all.\n",
        "list=[\"Hi\",\"I\",\"am\",\"doing\",\"great!\"]\n",
        "tuple=(1,2,3,4,5,6)\n",
        "dict={1:\"Ajay sir\",2:\"Ekta maam\"}\n",
        "print(list)\n",
        "print(tuple)\n",
        "print(dict)\n"
      ],
      "metadata": {
        "colab": {
          "base_uri": "https://localhost:8080/"
        },
        "id": "OQX31yl4Nz1b",
        "outputId": "07c31efa-6819-4622-841b-c31c66040352"
      },
      "execution_count": 10,
      "outputs": [
        {
          "output_type": "stream",
          "name": "stdout",
          "text": [
            "['Hi', 'I', 'am', 'doing', 'great!']\n",
            "(1, 2, 3, 4, 5, 6)\n",
            "{1: 'Ajay sir', 2: 'Ekta maam'}\n"
          ]
        }
      ]
    },
    {
      "cell_type": "code",
      "source": [
        "# 27. Write a code to create a list of 5 random numbers between 1 and 100, sort it in ascending order, and print the result.(replaced)\n",
        "l=[34,95,24,55,89]\n",
        "l=sorted(l)\n",
        "l"
      ],
      "metadata": {
        "colab": {
          "base_uri": "https://localhost:8080/"
        },
        "id": "HuJYaKmqN43a",
        "outputId": "c2fe351b-a66d-4dd0-ab1a-2a9fb0ad1dda"
      },
      "execution_count": 11,
      "outputs": [
        {
          "output_type": "execute_result",
          "data": {
            "text/plain": [
              "[24, 34, 55, 89, 95]"
            ]
          },
          "metadata": {},
          "execution_count": 11
        }
      ]
    },
    {
      "cell_type": "code",
      "source": [
        "# 28. Write a code to create a list with strings and print the element at the third index.\n",
        "l=[\"I\",\"love\",\"my\",\"Country\"]\n",
        "l[3]"
      ],
      "metadata": {
        "colab": {
          "base_uri": "https://localhost:8080/",
          "height": 36
        },
        "id": "l1fVAad5OEow",
        "outputId": "39ebc6ec-0c96-4288-e553-e50868c6993d"
      },
      "execution_count": 12,
      "outputs": [
        {
          "output_type": "execute_result",
          "data": {
            "text/plain": [
              "'Country'"
            ],
            "application/vnd.google.colaboratory.intrinsic+json": {
              "type": "string"
            }
          },
          "metadata": {},
          "execution_count": 12
        }
      ]
    },
    {
      "cell_type": "code",
      "source": [
        "#  29. Write a code to combine two dictionaries into one and print the result.\n",
        "d1={1:\"Rolex\",2:\"Ankit\"}\n",
        "d2={3:\"Vikram\",4:\"Amar\"}\n",
        "d2.update(d1)\n",
        "d2"
      ],
      "metadata": {
        "colab": {
          "base_uri": "https://localhost:8080/"
        },
        "id": "g92Ccfz1OL1T",
        "outputId": "d65fb351-2dc1-4f9a-9e0a-41fbc8416f68"
      },
      "execution_count": 13,
      "outputs": [
        {
          "output_type": "execute_result",
          "data": {
            "text/plain": [
              "{3: 'Vikram', 4: 'Amar', 1: 'Rolex', 2: 'Ankit'}"
            ]
          },
          "metadata": {},
          "execution_count": 13
        }
      ]
    },
    {
      "cell_type": "code",
      "source": [
        "# 30. Write a code to convert a list of strings into a set.\n",
        "l=[\"Ankit\",\"Rolex\"]\n",
        "set(l)"
      ],
      "metadata": {
        "colab": {
          "base_uri": "https://localhost:8080/"
        },
        "id": "_YV3ppr8OPcw",
        "outputId": "baeaf541-5bba-4346-a48b-1b25ec006630"
      },
      "execution_count": 14,
      "outputs": [
        {
          "output_type": "execute_result",
          "data": {
            "text/plain": [
              "{'Ankit', 'Rolex'}"
            ]
          },
          "metadata": {},
          "execution_count": 14
        }
      ]
    },
    {
      "cell_type": "code",
      "source": [],
      "metadata": {
        "id": "hcPQVxa4OT7j"
      },
      "execution_count": null,
      "outputs": []
    }
  ]
}